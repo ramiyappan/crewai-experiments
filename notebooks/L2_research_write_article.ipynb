{
 "cells": [
  {
   "cell_type": "markdown",
   "metadata": {},
   "source": [
    "You can download the `requirements.txt` for this course from the workspace of this lab. `File --> Open...`"
   ]
  },
  {
   "cell_type": "markdown",
   "metadata": {},
   "source": [
    "# L2: Create Agents to Research and Write an Article\n",
    "\n",
    "In this lesson, you will be introduced to the foundational concepts of multi-agent systems and get an overview of the crewAI framework."
   ]
  },
  {
   "cell_type": "markdown",
   "metadata": {},
   "source": [
    "The libraries are already installed in the classroom. If you're running this notebook on your own machine, you can install the following:\n",
    "```Python\n",
    "!pip install crewai==0.28.8 crewai_tools==0.1.6 langchain_community==0.0.29\n",
    "```"
   ]
  },
  {
   "cell_type": "code",
   "execution_count": 1,
   "metadata": {
    "height": 64
   },
   "outputs": [],
   "source": [
    "# Warning control\n",
    "import warnings\n",
    "warnings.filterwarnings('ignore')"
   ]
  },
  {
   "cell_type": "markdown",
   "metadata": {},
   "source": [
    "- Import from the crewAI libray."
   ]
  },
  {
   "cell_type": "code",
   "execution_count": 12,
   "metadata": {
    "height": 30
   },
   "outputs": [],
   "source": [
    "from crewai import Agent, Task, Crew"
   ]
  },
  {
   "cell_type": "markdown",
   "metadata": {},
   "source": [
    "- As a LLM for your agents, you'll be using OpenAI's `gpt-3.5-turbo`.\n",
    "\n",
    "**Optional Note:** crewAI also allow other popular models to be used as a LLM for your Agents. You can see some of the examples at the [bottom of the notebook](#1)."
   ]
  },
  {
   "cell_type": "code",
   "execution_count": 13,
   "metadata": {
    "height": 98
   },
   "outputs": [],
   "source": [
    "import os\n",
    "from dotenv import load_dotenv\n",
    "load_dotenv()\n",
    "os.environ[\"OPENAI_MODEL_NAME\"] = 'gpt-4o-mini'"
   ]
  },
  {
   "cell_type": "markdown",
   "metadata": {},
   "source": [
    "## Creating Agents\n",
    "\n",
    "- Define your Agents, and provide them a `role`, `goal` and `backstory`.\n",
    "- It has been seen that LLMs perform better when they are role playing."
   ]
  },
  {
   "cell_type": "markdown",
   "metadata": {},
   "source": [
    "### Agent: Planner\n",
    "\n",
    "**Note**: The benefit of using _multiple strings_ :\n",
    "```Python\n",
    "varname = \"line 1 of text\"\n",
    "          \"line 2 of text\"\n",
    "```\n",
    "\n",
    "versus the _triple quote docstring_:\n",
    "```Python\n",
    "varname = \"\"\"line 1 of text\n",
    "             line 2 of text\n",
    "          \"\"\"\n",
    "```\n",
    "is that it can avoid adding those whitespaces and newline characters, making it better formatted to be passed to the LLM."
   ]
  },
  {
   "cell_type": "code",
   "execution_count": 14,
   "metadata": {
    "height": 249
   },
   "outputs": [],
   "source": [
    "planner = Agent(\n",
    "    role=\"Content Planner\",\n",
    "    goal=\"Plan engaging and factually accurate content on {topic}\",\n",
    "    backstory=\"You're working on planning a blog article \"\n",
    "              \"about the topic: {topic}.\"\n",
    "              \"You collect information that helps the \"\n",
    "              \"audience learn something \"\n",
    "              \"and make informed decisions. \"\n",
    "              \"Your work is the basis for \"\n",
    "              \"the Content Writer to write an article on this topic.\",\n",
    "    allow_delegation=False,\n",
    "\tverbose=True\n",
    ")"
   ]
  },
  {
   "cell_type": "markdown",
   "metadata": {},
   "source": [
    "### Agent: Writer"
   ]
  },
  {
   "cell_type": "code",
   "execution_count": 15,
   "metadata": {
    "height": 385
   },
   "outputs": [],
   "source": [
    "writer = Agent(\n",
    "    role=\"Content Writer\",\n",
    "    goal=\"Write insightful and factually accurate \"\n",
    "         \"opinion piece about the topic: {topic}\",\n",
    "    backstory=\"You're working on a writing \"\n",
    "              \"a new opinion piece about the topic: {topic}. \"\n",
    "              \"You base your writing on the work of \"\n",
    "              \"the Content Planner, who provides an outline \"\n",
    "              \"and relevant context about the topic. \"\n",
    "              \"You follow the main objectives and \"\n",
    "              \"direction of the outline, \"\n",
    "              \"as provide by the Content Planner. \"\n",
    "              \"You also provide objective and impartial insights \"\n",
    "              \"and back them up with information \"\n",
    "              \"provide by the Content Planner. \"\n",
    "              \"You acknowledge in your opinion piece \"\n",
    "              \"when your statements are opinions \"\n",
    "              \"as opposed to objective statements.\",\n",
    "    allow_delegation=False,\n",
    "    verbose=True\n",
    ")"
   ]
  },
  {
   "cell_type": "markdown",
   "metadata": {},
   "source": [
    "### Agent: Editor"
   ]
  },
  {
   "cell_type": "code",
   "execution_count": 16,
   "metadata": {
    "height": 283
   },
   "outputs": [],
   "source": [
    "editor = Agent(\n",
    "    role=\"Editor\",\n",
    "    goal=\"Edit a given blog post to align with \"\n",
    "         \"the writing style of the organization. \",\n",
    "    backstory=\"You are an editor who receives a blog post \"\n",
    "              \"from the Content Writer. \"\n",
    "              \"Your goal is to review the blog post \"\n",
    "              \"to ensure that it follows journalistic best practices,\"\n",
    "              \"provides balanced viewpoints \"\n",
    "              \"when providing opinions or assertions, \"\n",
    "              \"and also avoids major controversial topics \"\n",
    "              \"or opinions when possible.\",\n",
    "    allow_delegation=False,\n",
    "    verbose=True\n",
    ")"
   ]
  },
  {
   "cell_type": "markdown",
   "metadata": {},
   "source": [
    "## Creating Tasks\n",
    "\n",
    "- Define your Tasks, and provide them a `description`, `expected_output` and `agent`."
   ]
  },
  {
   "cell_type": "markdown",
   "metadata": {},
   "source": [
    "### Task: Plan"
   ]
  },
  {
   "cell_type": "code",
   "execution_count": 17,
   "metadata": {
    "height": 283
   },
   "outputs": [],
   "source": [
    "plan = Task(\n",
    "    description=(\n",
    "        \"1. Prioritize the latest trends, key players, \"\n",
    "            \"and noteworthy news on {topic}.\\n\"\n",
    "        \"2. Identify the target audience, considering \"\n",
    "            \"their interests and pain points.\\n\"\n",
    "        \"3. Develop a detailed content outline including \"\n",
    "            \"an introduction, key points, and a call to action.\\n\"\n",
    "        \"4. Include SEO keywords and relevant data or sources.\"\n",
    "    ),\n",
    "    expected_output=\"A comprehensive content plan document \"\n",
    "        \"with an outline, audience analysis, \"\n",
    "        \"SEO keywords, and resources.\",\n",
    "    agent=planner,\n",
    ")"
   ]
  },
  {
   "cell_type": "markdown",
   "metadata": {},
   "source": [
    "### Task: Write"
   ]
  },
  {
   "cell_type": "code",
   "execution_count": 18,
   "metadata": {
    "height": 319
   },
   "outputs": [],
   "source": [
    "write = Task(\n",
    "    description=(\n",
    "        \"1. Use the content plan to craft a compelling \"\n",
    "            \"blog post on {topic}.\\n\"\n",
    "        \"2. Incorporate SEO keywords naturally.\\n\"\n",
    "\t\t\"3. Sections/Subtitles are properly named \"\n",
    "            \"in an engaging manner.\\n\"\n",
    "        \"4. Ensure the post is structured with an \"\n",
    "            \"engaging introduction, insightful body, \"\n",
    "            \"and a summarizing conclusion.\\n\"\n",
    "        \"5. Proofread for grammatical errors and \"\n",
    "            \"alignment with the brand's voice.\\n\"\n",
    "    ),\n",
    "    expected_output=\"A well-written blog post \"\n",
    "        \"in markdown format, ready for publication, \"\n",
    "        \"each section should have 2 or 3 paragraphs.\",\n",
    "    agent=writer,\n",
    ")"
   ]
  },
  {
   "cell_type": "markdown",
   "metadata": {},
   "source": [
    "### Task: Edit"
   ]
  },
  {
   "cell_type": "code",
   "execution_count": 19,
   "metadata": {
    "height": 181
   },
   "outputs": [],
   "source": [
    "edit = Task(\n",
    "    description=(\"Proofread the given blog post for \"\n",
    "                 \"grammatical errors and \"\n",
    "                 \"alignment with the brand's voice.\"),\n",
    "    expected_output=\"A well-written blog post in markdown format, \"\n",
    "                    \"ready for publication, \"\n",
    "                    \"each section should have 2 or 3 paragraphs.\",\n",
    "    agent=editor\n",
    ")"
   ]
  },
  {
   "cell_type": "markdown",
   "metadata": {},
   "source": [
    "## Creating the Crew\n",
    "\n",
    "- Create your crew of Agents\n",
    "- Pass the tasks to be performed by those agents.\n",
    "    - **Note**: *For this simple example*, the tasks will be performed sequentially (i.e they are dependent on each other), so the _order_ of the task in the list _matters_.\n",
    "- `verbose=2` allows you to see all the logs of the execution. "
   ]
  },
  {
   "cell_type": "code",
   "execution_count": 25,
   "metadata": {
    "height": 98
   },
   "outputs": [],
   "source": [
    "crew = Crew(\n",
    "    agents=[planner, writer, editor],\n",
    "    tasks=[plan, write, edit]\n",
    ")"
   ]
  },
  {
   "cell_type": "markdown",
   "metadata": {},
   "source": [
    "## Running the Crew"
   ]
  },
  {
   "cell_type": "markdown",
   "metadata": {},
   "source": [
    "**Note**: LLMs can provide different outputs for they same input, so what you get might be different than what you see in the video."
   ]
  },
  {
   "cell_type": "code",
   "execution_count": 26,
   "metadata": {
    "height": 45
   },
   "outputs": [
    {
     "name": "stdout",
     "output_type": "stream",
     "text": [
      "\u001b[1m\u001b[95m# Agent:\u001b[00m \u001b[1m\u001b[92mContent Planner\u001b[00m\n",
      "\u001b[95m## Task:\u001b[00m \u001b[92m1. Prioritize the latest trends, key players, and noteworthy news on Artificial Intelligence.\n",
      "2. Identify the target audience, considering their interests and pain points.\n",
      "3. Develop a detailed content outline including an introduction, key points, and a call to action.\n",
      "4. Include SEO keywords and relevant data or sources.\u001b[00m\n",
      "\n",
      "\n",
      "\u001b[1m\u001b[95m# Agent:\u001b[00m \u001b[1m\u001b[92mContent Planner\u001b[00m\n",
      "\u001b[95m## Final Answer:\u001b[00m \u001b[92m\n",
      "**Content Plan Document on Artificial Intelligence**\n",
      "\n",
      "---\n",
      "\n",
      "**1. Latest Trends in Artificial Intelligence**\n",
      "- **Generative AI**: The rise of tools like OpenAI's ChatGPT and DALL-E has revolutionized content creation, art generation, and human-computer interaction.\n",
      "- **AI Ethics**: Discussion surrounding the ethical implications of AI usage, bias in algorithms, and the importance of transparency.\n",
      "- **AI in Healthcare**: Growth of AI applications in medical diagnosis, personalized medicine, and operational efficiency in hospitals.\n",
      "- **AI for Automation**: Increasing adoption of AI in various industries to enhance productivity, reduce costs, and optimize supply chains.\n",
      "- **Natural Language Processing (NLP)** advancements: Improvements in understanding and generating human language have vast implications for business communication and customer service.\n",
      "\n",
      "**2. Key Players in the AI Sector**\n",
      "- **OpenAI**: Leading development in NLP and generative models.\n",
      "- **Google AI**: Focus on machine learning advancements and practical applications in Google products.\n",
      "- **IBM Watson**: Pioneering AI for business solutions across multiple sectors.\n",
      "- **Microsoft**: Investment in AI technologies, including partnerships with OpenAI and implementations in productivity software.\n",
      "- **NVIDIA**: Key player in hardware development for AI, particularly GPUs for deep learning models.\n",
      "\n",
      "**3. Target Audience Analysis**\n",
      "- **Tech Professionals**: Interested in the technical side of AI, seeking to implement AI solutions or advancements.\n",
      "- **Business Leaders**: Looking for applications of AI that could enhance their operations and maintain a competitive edge.\n",
      "- **Students and Educators**: Those seeking knowledge about AI for career development or educational purposes.\n",
      "- **General Public**: Individuals curious about AI's implications on society, jobs, and daily life.\n",
      "- **Ethics Advocates**: People concerned about the social and ethical implications of AI technologies.\n",
      "\n",
      "*Pain points to address include understanding the complexities and benefits of AI, fear of job displacement, ethical challenges, and navigating misinformation about AI technology.*\n",
      "\n",
      "**4. Content Outline**\n",
      "\n",
      "- **Title**: The Evolution and Impact of Artificial Intelligence: Trends, Key Players, and Ethical Considerations\n",
      "\n",
      "**I. Introduction**\n",
      "   - Brief overview of AI technology and its rapid developments\n",
      "   - Importance of understanding AI in today's world\n",
      "\n",
      "**II. Latest Trends in Artificial Intelligence**\n",
      "   - Generative AI: The future of content creation\n",
      "   - AI Ethics: Responsibility in deployment\n",
      "   - AI in Healthcare: Transforming patient care \n",
      "\n",
      "**III. Key Players Shaping AI Technology**\n",
      "   - Overview of major companies  \n",
      "   - Innovations and contributions of each player\n",
      "\n",
      "**IV. Audience Insights: Who Should Care About AI?**\n",
      "   - Breakdown of target audience demographics\n",
      "   - Addressing pain points and interests of each group\n",
      "\n",
      "**V. Practical Applications of AI in Various Sectors**\n",
      "   - AI in Business Operations\n",
      "   - AI Enhancements in the Tech Industry\n",
      "   - AI in Education and Learning\n",
      "\n",
      "**VI. Final Considerations: The Future of AI**\n",
      "   - Speculation on upcoming trends\n",
      "   - Call for responsible AI development \n",
      "\n",
      "**VII. Call to Action**\n",
      "   - Encourage readers to stay informed about AI developments\n",
      "   - Promote engagement through comments, sharing personal experiences with AI\n",
      "\n",
      "**5. SEO Keywords**\n",
      "- Artificial Intelligence\n",
      "- AI Trends 2023\n",
      "- AI Ethics\n",
      "- Generative AI\n",
      "- AI in Healthcare\n",
      "- AI Automation\n",
      "- Natural Language Processing AI\n",
      "- AI Business Applications\n",
      "\n",
      "**6. Relevant Data and Sources**\n",
      "- OpenAI Blog (OpenAI's updates on generative AI)\n",
      "- IBM Watson Articles (Case studies on AI in business)\n",
      "- Research papers from MIT and Stanford on AI developments\n",
      "- Reports from Gartner on AI trends in various sectors\n",
      "- Articles from Wired and MIT Technology Review discussing ethical considerations in AI\n",
      "\n",
      "---\n",
      "\n",
      "This content plan aims to provide a comprehensive overview and insights into the current landscape of Artificial Intelligence, engaging readers across different interests while emphasizing the importance of ethical considerations in the development and implementation of AI technologies.\u001b[00m\n",
      "\n",
      "\n",
      "\u001b[1m\u001b[95m# Agent:\u001b[00m \u001b[1m\u001b[92mContent Writer\u001b[00m\n",
      "\u001b[95m## Task:\u001b[00m \u001b[92m1. Use the content plan to craft a compelling blog post on Artificial Intelligence.\n",
      "2. Incorporate SEO keywords naturally.\n",
      "3. Sections/Subtitles are properly named in an engaging manner.\n",
      "4. Ensure the post is structured with an engaging introduction, insightful body, and a summarizing conclusion.\n",
      "5. Proofread for grammatical errors and alignment with the brand's voice.\n",
      "\u001b[00m\n",
      "\n",
      "\n",
      "\u001b[1m\u001b[95m# Agent:\u001b[00m \u001b[1m\u001b[92mContent Writer\u001b[00m\n",
      "\u001b[95m## Final Answer:\u001b[00m \u001b[92m\n",
      "# The Evolution and Impact of Artificial Intelligence: Trends, Key Players, and Ethical Considerations\n",
      "\n",
      "## I. Introduction\n",
      "\n",
      "Artificial Intelligence (AI) has rapidly evolved from a niche technological concept to a transformative force across multiple sectors. As AI technologies continue to mature, they are reshaping industries, redefining job roles, and challenging our ethical boundaries. With advancements occurring at breakneck speed, it is critical for individuals and businesses to understand the implications of AI in today’s world. Embracing this knowledge will empower stakeholders to navigate the complexities of AI, seize opportunities for innovation, and safeguard against potential pitfalls.\n",
      "\n",
      "We find ourselves at a pivotal moment where the intertwining of humans and machines presents both exciting opportunities and significant challenges. From generative AI tools revolutionizing content creation to ethical debates surrounding algorithmic bias, the impact of AI is all-encompassing. In this blog post, we'll delve into the latest trends in AI, highlight the key players driving the technology's evolution, examine the target audience, and reflect on the practical applications across various sectors.\n",
      "\n",
      "## II. Latest Trends in Artificial Intelligence\n",
      "\n",
      "### Generative AI: The Future of Content Creation\n",
      "\n",
      "One of the most groundbreaking trends in AI is the emergence of generative AI models, such as OpenAI's ChatGPT and DALL-E. These innovative tools have revolutionized content creation by allowing users to generate high-quality text and images with unprecedented ease. As businesses and individuals seek to harness the power of generative AI, the potential for creative expression and efficiency is limitless. Nevertheless, the rise of these technologies also beckons discussions around copyright, originality, and the ethical ramifications of automated content generation.\n",
      "\n",
      "### AI Ethics: Responsibility in Deployment\n",
      "\n",
      "As we revel in the possibilities that AI presents, it's equally crucial to address the ethical dilemmas that accompany its deployment. Issues such as algorithmic bias, transparency, and accountability are at the forefront of discussions surrounding AI ethics. Striking a balance between innovation and responsibility is paramount. As organizations develop AI systems, they must prioritize ethical considerations to avoid exacerbating social inequalities and undermining trust in technology. The conversation about AI ethics will shape the future paths of development, making it essential for creators to engage in thoughtful reflection on their practices.\n",
      "\n",
      "### AI in Healthcare: Transforming Patient Care\n",
      "\n",
      "AI's potential to revolutionize healthcare is profound. From diagnosing diseases with remarkable accuracy to offering personalized treatment plans, AI applications in healthcare enhance patient outcomes and operational efficiency. Machine learning algorithms analyzed vast datasets, flagging potential health risks before they escalate. Moreover, AI-powered tools streamline hospital operations, reducing wait times and optimizing resource allocation. As the healthcare sector continues to adopt these technologies, ongoing investment in securing patient data and ensuring ethical use becomes vital.\n",
      "\n",
      "## III. Key Players Shaping AI Technology\n",
      "\n",
      "### Overview of Major Companies\n",
      "\n",
      "As AI technology advances, several organizations stand out as key players worth noting. Leaders like OpenAI, Google AI, IBM Watson, Microsoft, and NVIDIA are shaping the landscape through innovative research and influential deployments. Their contributions have fostered an environment where AI can thrive, and each organization brings its unique strengths to the table.\n",
      "\n",
      "### Innovations and Contributions of Each Player\n",
      "\n",
      "- **OpenAI** has pioneered advancements in natural language processing (NLP) and generative models, making strides toward more human-like interactions with machines.\n",
      "- **Google AI** leverages machine learning to enhance practical applications across its product range, integrating AI seamlessly into everyday user experiences.\n",
      "- **IBM Watson** focuses on delivering tailored AI solutions for various business sectors, showcasing the versatile potential of AI across industries.\n",
      "- **Microsoft's** strategic partnerships and significant investments in AI reflect its commitment to embedding AI technologies within productivity software, thus improving user efficiency.\n",
      "- **NVIDIA** plays a pivotal role in hardware development, supplying powerful GPUs that are essential for training deep learning models, directly influencing AI's capabilities.\n",
      "\n",
      "## IV. Audience Insights: Who Should Care About AI?\n",
      "\n",
      "### Breakdown of Target Audience Demographics\n",
      "\n",
      "Artificial Intelligence intersects with a diverse range of stakeholders, and understanding the audience is crucial for effective communication. Tech professionals are keen to explore the technical side of AI, seeking best practices for implementation. Business leaders, keen on maintaining competitive advantages, are eager to learn about practical applications of AI within their operations.\n",
      "\n",
      "### Addressing Pain Points and Interests of Each Group\n",
      "\n",
      "Students and educators are exploring AI for opportunities in career development and academic enrichment, while the general public remains curious about AI's societal implications, job displacement fears, and daily life impacts. Additionally, ethics advocates are concerned about the socio-ethical aspects of AI technologies. By addressing these pain points, the discourse around AI becomes more inclusive, fostering a well-rounded conversation that benefits all stakeholders.\n",
      "\n",
      "## V. Practical Applications of AI in Various Sectors\n",
      "\n",
      "### AI in Business Operations\n",
      "\n",
      "AI adoption in business operations is accelerating, with companies leveraging AI-driven data analytics to inform decisions, enhance marketing strategies, and optimize supply chains. As the technology allows for historical data mining and pattern recognition, businesses can streamline their processes, ultimately leading to cost reduction and improved overall efficiency.\n",
      "\n",
      "### AI Enhancements in the Tech Industry\n",
      "\n",
      "In the tech industry, AI applications range from software development to cybersecurity. Intelligent algorithms help detect anomalies in network security, enhancing threat detection and response times. As innovation continues, we can expect more breakthroughs, empowering developers to create smarter, more resilient systems.\n",
      "\n",
      "### AI in Education and Learning\n",
      "\n",
      "In the education sector, AI-powered platforms offer personalized learning experiences, adapting content to the student's individual needs. By providing targeted resources and assessments, AI can foster a more engaging and effective learning environment, bridging gaps and enhancing educational outcomes.\n",
      "\n",
      "## VI. Final Considerations: The Future of AI\n",
      "\n",
      "### Speculation on Upcoming Trends\n",
      "\n",
      "As we look to the future, several trends are anticipated to shape the AI landscape further. Innovations in explainable AI—transparency in decision-making processes—and continued advancements in NLP will foster more sophisticated interactions between humans and machines. Moreover, regulatory frameworks are likely to emerge to balance innovation and accountability, ultimately guiding responsible AI development.\n",
      "\n",
      "### Call for Responsible AI Development\n",
      "\n",
      "The potential of AI should not overshadow the necessity for responsible development practices. As technology continues to evolve, stakeholders must stay informed, emphasizing ethical considerations that would allow AI to be a force for good in society. A collaborative effort between researchers, developers, policy-makers, and the public is vital to ensure that AI serves humanity's best interests.\n",
      "\n",
      "## VII. Call to Action\n",
      "\n",
      "As we continue to navigate this rapidly evolving field, I encourage readers to stay informed about the latest developments and trends in Artificial Intelligence. Engage in conversations, share your experiences, and contribute to dialogues surrounding AI's implications on society. By participating in this discourse, we can collectively shape a future where AI enhances our lives while addressing its ethical challenges.\n",
      "\n",
      "In conclusion, AI is not just a technological trend; it's a pivotal force that necessitates our attention and understanding. As we continue to explore and advance these technologies, let’s do so with a purposeful focus on impact and ethics.\n",
      "\n",
      "---\n",
      "\n",
      "By understanding the influences, implications, and applications of AI, we can better position ourselves to face the future with optimism and responsibility.\u001b[00m\n",
      "\n",
      "\n",
      "\u001b[1m\u001b[95m# Agent:\u001b[00m \u001b[1m\u001b[92mEditor\u001b[00m\n",
      "\u001b[95m## Task:\u001b[00m \u001b[92mProofread the given blog post for grammatical errors and alignment with the brand's voice.\u001b[00m\n",
      "\n",
      "\n",
      "\u001b[1m\u001b[95m# Agent:\u001b[00m \u001b[1m\u001b[92mEditor\u001b[00m\n",
      "\u001b[95m## Final Answer:\u001b[00m \u001b[92m\n",
      "# The Evolution and Impact of Artificial Intelligence: Trends, Key Players, and Ethical Considerations\n",
      "\n",
      "## I. Introduction\n",
      "\n",
      "Artificial Intelligence (AI) has rapidly evolved from a niche technological concept to a transformative force across multiple sectors. As AI technologies continue to mature, they are reshaping industries, redefining job roles, and challenging our ethical boundaries. With advancements occurring at breakneck speed, it is critical for individuals and businesses to understand the implications of AI in today’s world. Embracing this knowledge will empower stakeholders to navigate the complexities of AI, seize opportunities for innovation, and safeguard against potential pitfalls.\n",
      "\n",
      "We find ourselves at a pivotal moment where the intertwining of humans and machines presents both exciting opportunities and significant challenges. From generative AI tools revolutionizing content creation to ethical debates surrounding algorithmic bias, the impact of AI is all-encompassing. In this blog post, we'll delve into the latest trends in AI, highlight the key players driving the technology's evolution, examine the target audience, and reflect on the practical applications across various sectors.\n",
      "\n",
      "## II. Latest Trends in Artificial Intelligence\n",
      "\n",
      "### Generative AI: The Future of Content Creation\n",
      "\n",
      "One of the most groundbreaking trends in AI is the emergence of generative AI models, such as OpenAI's ChatGPT and DALL-E. These innovative tools have revolutionized content creation by allowing users to generate high-quality text and images with unprecedented ease. As businesses and individuals seek to harness the power of generative AI, the potential for creative expression and efficiency is limitless. Nevertheless, the rise of these technologies also beckons discussions around copyright, originality, and the ethical ramifications of automated content generation.\n",
      "\n",
      "As generative AI technology continues to evolve, it opens the door to unprecedented collaboration between humans and machines. This partnership can lead to novel creative processes, where AI acts as an assistant rather than a replacement. However, for this collaboration to thrive, it is essential to establish guidelines that govern usage and ensure that the benefits of this technology extend beyond a select few.\n",
      "\n",
      "### AI Ethics: Responsibility in Deployment\n",
      "\n",
      "As we revel in the possibilities that AI presents, it's equally crucial to address the ethical dilemmas that accompany its deployment. Issues such as algorithmic bias, transparency, and accountability are at the forefront of discussions surrounding AI ethics. Striking a balance between innovation and responsibility is paramount. As organizations develop AI systems, they must prioritize ethical considerations to avoid exacerbating social inequalities and undermining trust in technology. \n",
      "\n",
      "Moreover, incorporating diverse perspectives during the design process is essential in creating AI systems that serve all segments of society. As we address ethical concerns, the dialogue around responsible AI development must be inclusive, fostering a well-rounded approach to these technologies.\n",
      "\n",
      "### AI in Healthcare: Transforming Patient Care\n",
      "\n",
      "AI's potential to revolutionize healthcare is profound. From diagnosing diseases with remarkable accuracy to offering personalized treatment plans, AI applications in healthcare enhance patient outcomes and operational efficiency. Machine learning algorithms analyze vast datasets, flagging potential health risks before they escalate. Moreover, AI-powered tools streamline hospital operations, reducing wait times and optimizing resource allocation.\n",
      "\n",
      "However, the integration of AI into healthcare also raises concerns about data privacy and security. Ensuring that patient information remains protected while harnessing AI's capabilities is vital. By prioritizing ethical data usage and establishing robust safeguards, the healthcare industry can fully leverage AI to improve patient care while maintaining public trust.\n",
      "\n",
      "## III. Key Players Shaping AI Technology\n",
      "\n",
      "### Overview of Major Companies\n",
      "\n",
      "As AI technology advances, several organizations stand out as key players worth noting. Leaders like OpenAI, Google AI, IBM Watson, Microsoft, and NVIDIA are shaping the landscape through innovative research and influential deployments. Their contributions have fostered an environment where AI can thrive, and each organization brings its unique strengths to the table.\n",
      "\n",
      "Recognizing the impact of these key players not only helps us understand the current AI landscape, but also allows us to anticipate upcoming innovations. As these organizations push the boundaries of what AI can achieve, they pave the way for future developments across various sectors.\n",
      "\n",
      "### Innovations and Contributions of Each Player\n",
      "\n",
      "- **OpenAI** has pioneered advancements in natural language processing (NLP) and generative models, making strides toward more human-like interactions with machines.\n",
      "- **Google AI** leverages machine learning to enhance practical applications across its product range, integrating AI seamlessly into everyday user experiences.\n",
      "- **IBM Watson** focuses on delivering tailored AI solutions for various business sectors, showcasing the versatile potential of AI across industries.\n",
      "- **Microsoft's** strategic partnerships and significant investments in AI reflect its commitment to embedding AI technologies within productivity software, thus improving user efficiency.\n",
      "- **NVIDIA** plays a pivotal role in hardware development, supplying powerful GPUs that are essential for training deep learning models, directly influencing AI's capabilities.\n",
      "\n",
      "## IV. Audience Insights: Who Should Care About AI?\n",
      "\n",
      "### Breakdown of Target Audience Demographics\n",
      "\n",
      "Artificial Intelligence intersects with a diverse range of stakeholders, and understanding the audience is crucial for effective communication. Tech professionals are keen to explore the technical side of AI, seeking best practices for implementation. Business leaders, driven by a need to maintain competitive advantages, are eager to learn about practical applications of AI within their operations.\n",
      "\n",
      "Similarly, students and educators are exploring AI for career development opportunities. By providing accessible information about AI, we empower the next generation to embrace the technology and pursue careers within this expanding field.\n",
      "\n",
      "### Addressing Pain Points and Interests of Each Group\n",
      "\n",
      "The general public remains curious about AI's societal implications, job displacement fears, and daily life impacts. For these individuals, understanding the nuances of AI technology can demystify misconceptions, fostering a more informed population that can adapt to the evolving landscape.\n",
      "\n",
      "Additionally, ethics advocates are concerned about the socio-ethical aspects of AI technologies. By addressing these pain points through meaningful dialogue and education, we can cultivate an inclusive conversation around AI that benefits all stakeholders involved.\n",
      "\n",
      "## V. Practical Applications of AI in Various Sectors\n",
      "\n",
      "### AI in Business Operations\n",
      "\n",
      "AI adoption in business operations is accelerating, with companies leveraging AI-driven data analytics to inform decisions, enhance marketing strategies, and optimize supply chains. As the technology allows for historical data mining and pattern recognition, businesses can streamline their processes, leading to cost reduction and improved overall efficiency.\n",
      "\n",
      "Looking ahead, the role of AI in business is expected to become even more integral, opening avenues for predictive analytics and automated decision-making. Organizations that embrace AI can position themselves as industry leaders by harnessing its potential to drive growth and innovation.\n",
      "\n",
      "### AI Enhancements in the Tech Industry\n",
      "\n",
      "In the tech industry, AI applications range from software development to cybersecurity. Intelligent algorithms help detect anomalies in network security, enhancing threat detection and response times. As innovation continues, we can expect more breakthroughs, empowering developers to create smarter, more resilient systems.\n",
      "\n",
      "Furthermore, as AI technologies become increasingly integrated into tech products, we can anticipate a new era of user experience tailored to individual preferences. By leveraging AI to enhance functionality, tech companies can provide solutions that adapt to the ever-changing demands of users.\n",
      "\n",
      "### AI in Education and Learning\n",
      "\n",
      "In the education sector, AI-powered platforms offer personalized learning experiences, adapting content to the student's individual needs. By providing targeted resources and assessments, AI can foster a more engaging and effective learning environment, bridging gaps and enhancing educational outcomes.\n",
      "\n",
      "Looking ahead, AI's role in education could expand further, offering real-time feedback and adaptive learning systems that cater to diverse learning styles. By integrating AI into educational frameworks, we can create more inclusive and accessible learning environments that foster success for all students.\n",
      "\n",
      "## VI. Final Considerations: The Future of AI\n",
      "\n",
      "### Speculation on Upcoming Trends\n",
      "\n",
      "As we look to the future, several trends are anticipated to shape the AI landscape further. Innovations in explainable AI—transparency in decision-making processes—and continued advancements in NLP will foster more sophisticated interactions between humans and machines. Moreover, regulatory frameworks are likely to emerge to balance innovation and accountability, ultimately guiding responsible AI development.\n",
      "\n",
      "The collaboration between AI researchers and policymakers will be crucial in shaping future guidelines. By fostering an open dialogue, we can create a collaborative environment that promotes ethical AI development while harnessing its potential.\n",
      "\n",
      "### Call for Responsible AI Development\n",
      "\n",
      "The potential of AI should not overshadow the necessity for responsible development practices. As technology continues to evolve, stakeholders must stay informed, emphasizing ethical considerations that would allow AI to be a force for good in society. A collaborative effort between researchers, developers, policymakers, and the public is vital to ensure that AI serves humanity's best interests.\n",
      "\n",
      "This commitment to responsibility will not only help to avoid detrimental consequences but also foster an environment in which innovation can flourish sustainably. By prioritizing ethical development, stakeholders can ensure that the advancement of AI enhances human experiences.\n",
      "\n",
      "## VII. Call to Action\n",
      "\n",
      "As we continue to navigate this rapidly evolving field, I encourage readers to stay informed about the latest developments and trends in Artificial Intelligence. Engage in conversations, share your experiences, and contribute to dialogues surrounding AI's implications on society. By participating in this discourse, we can collectively shape a future where AI enhances our lives while addressing its ethical challenges.\n",
      "\n",
      "In conclusion, AI is not just a technological trend; it's a pivotal force that necessitates our attention and understanding. As we continue to explore and advance these technologies, let’s do so with a purposeful focus on impact and ethics. By understanding the influences, implications, and applications of AI, we can better position ourselves to face the future with optimism and responsibility.\u001b[00m\n",
      "\n",
      "\n"
     ]
    }
   ],
   "source": [
    "result = crew.kickoff(inputs={\"topic\": \"Artificial Intelligence\"})"
   ]
  },
  {
   "cell_type": "markdown",
   "metadata": {},
   "source": [
    "- Display the results of your execution as markdown in the notebook."
   ]
  },
  {
   "cell_type": "code",
   "execution_count": 30,
   "metadata": {
    "height": 47
   },
   "outputs": [
    {
     "data": {
      "text/markdown": [
       "# The Evolution and Impact of Artificial Intelligence: Trends, Key Players, and Ethical Considerations\n",
       "\n",
       "## I. Introduction\n",
       "\n",
       "Artificial Intelligence (AI) has rapidly evolved from a niche technological concept to a transformative force across multiple sectors. As AI technologies continue to mature, they are reshaping industries, redefining job roles, and challenging our ethical boundaries. With advancements occurring at breakneck speed, it is critical for individuals and businesses to understand the implications of AI in today’s world. Embracing this knowledge will empower stakeholders to navigate the complexities of AI, seize opportunities for innovation, and safeguard against potential pitfalls.\n",
       "\n",
       "We find ourselves at a pivotal moment where the intertwining of humans and machines presents both exciting opportunities and significant challenges. From generative AI tools revolutionizing content creation to ethical debates surrounding algorithmic bias, the impact of AI is all-encompassing. In this blog post, we'll delve into the latest trends in AI, highlight the key players driving the technology's evolution, examine the target audience, and reflect on the practical applications across various sectors.\n",
       "\n",
       "## II. Latest Trends in Artificial Intelligence\n",
       "\n",
       "### Generative AI: The Future of Content Creation\n",
       "\n",
       "One of the most groundbreaking trends in AI is the emergence of generative AI models, such as OpenAI's ChatGPT and DALL-E. These innovative tools have revolutionized content creation by allowing users to generate high-quality text and images with unprecedented ease. As businesses and individuals seek to harness the power of generative AI, the potential for creative expression and efficiency is limitless. Nevertheless, the rise of these technologies also beckons discussions around copyright, originality, and the ethical ramifications of automated content generation.\n",
       "\n",
       "As generative AI technology continues to evolve, it opens the door to unprecedented collaboration between humans and machines. This partnership can lead to novel creative processes, where AI acts as an assistant rather than a replacement. However, for this collaboration to thrive, it is essential to establish guidelines that govern usage and ensure that the benefits of this technology extend beyond a select few.\n",
       "\n",
       "### AI Ethics: Responsibility in Deployment\n",
       "\n",
       "As we revel in the possibilities that AI presents, it's equally crucial to address the ethical dilemmas that accompany its deployment. Issues such as algorithmic bias, transparency, and accountability are at the forefront of discussions surrounding AI ethics. Striking a balance between innovation and responsibility is paramount. As organizations develop AI systems, they must prioritize ethical considerations to avoid exacerbating social inequalities and undermining trust in technology. \n",
       "\n",
       "Moreover, incorporating diverse perspectives during the design process is essential in creating AI systems that serve all segments of society. As we address ethical concerns, the dialogue around responsible AI development must be inclusive, fostering a well-rounded approach to these technologies.\n",
       "\n",
       "### AI in Healthcare: Transforming Patient Care\n",
       "\n",
       "AI's potential to revolutionize healthcare is profound. From diagnosing diseases with remarkable accuracy to offering personalized treatment plans, AI applications in healthcare enhance patient outcomes and operational efficiency. Machine learning algorithms analyze vast datasets, flagging potential health risks before they escalate. Moreover, AI-powered tools streamline hospital operations, reducing wait times and optimizing resource allocation.\n",
       "\n",
       "However, the integration of AI into healthcare also raises concerns about data privacy and security. Ensuring that patient information remains protected while harnessing AI's capabilities is vital. By prioritizing ethical data usage and establishing robust safeguards, the healthcare industry can fully leverage AI to improve patient care while maintaining public trust.\n",
       "\n",
       "## III. Key Players Shaping AI Technology\n",
       "\n",
       "### Overview of Major Companies\n",
       "\n",
       "As AI technology advances, several organizations stand out as key players worth noting. Leaders like OpenAI, Google AI, IBM Watson, Microsoft, and NVIDIA are shaping the landscape through innovative research and influential deployments. Their contributions have fostered an environment where AI can thrive, and each organization brings its unique strengths to the table.\n",
       "\n",
       "Recognizing the impact of these key players not only helps us understand the current AI landscape, but also allows us to anticipate upcoming innovations. As these organizations push the boundaries of what AI can achieve, they pave the way for future developments across various sectors.\n",
       "\n",
       "### Innovations and Contributions of Each Player\n",
       "\n",
       "- **OpenAI** has pioneered advancements in natural language processing (NLP) and generative models, making strides toward more human-like interactions with machines.\n",
       "- **Google AI** leverages machine learning to enhance practical applications across its product range, integrating AI seamlessly into everyday user experiences.\n",
       "- **IBM Watson** focuses on delivering tailored AI solutions for various business sectors, showcasing the versatile potential of AI across industries.\n",
       "- **Microsoft's** strategic partnerships and significant investments in AI reflect its commitment to embedding AI technologies within productivity software, thus improving user efficiency.\n",
       "- **NVIDIA** plays a pivotal role in hardware development, supplying powerful GPUs that are essential for training deep learning models, directly influencing AI's capabilities.\n",
       "\n",
       "## IV. Audience Insights: Who Should Care About AI?\n",
       "\n",
       "### Breakdown of Target Audience Demographics\n",
       "\n",
       "Artificial Intelligence intersects with a diverse range of stakeholders, and understanding the audience is crucial for effective communication. Tech professionals are keen to explore the technical side of AI, seeking best practices for implementation. Business leaders, driven by a need to maintain competitive advantages, are eager to learn about practical applications of AI within their operations.\n",
       "\n",
       "Similarly, students and educators are exploring AI for career development opportunities. By providing accessible information about AI, we empower the next generation to embrace the technology and pursue careers within this expanding field.\n",
       "\n",
       "### Addressing Pain Points and Interests of Each Group\n",
       "\n",
       "The general public remains curious about AI's societal implications, job displacement fears, and daily life impacts. For these individuals, understanding the nuances of AI technology can demystify misconceptions, fostering a more informed population that can adapt to the evolving landscape.\n",
       "\n",
       "Additionally, ethics advocates are concerned about the socio-ethical aspects of AI technologies. By addressing these pain points through meaningful dialogue and education, we can cultivate an inclusive conversation around AI that benefits all stakeholders involved.\n",
       "\n",
       "## V. Practical Applications of AI in Various Sectors\n",
       "\n",
       "### AI in Business Operations\n",
       "\n",
       "AI adoption in business operations is accelerating, with companies leveraging AI-driven data analytics to inform decisions, enhance marketing strategies, and optimize supply chains. As the technology allows for historical data mining and pattern recognition, businesses can streamline their processes, leading to cost reduction and improved overall efficiency.\n",
       "\n",
       "Looking ahead, the role of AI in business is expected to become even more integral, opening avenues for predictive analytics and automated decision-making. Organizations that embrace AI can position themselves as industry leaders by harnessing its potential to drive growth and innovation.\n",
       "\n",
       "### AI Enhancements in the Tech Industry\n",
       "\n",
       "In the tech industry, AI applications range from software development to cybersecurity. Intelligent algorithms help detect anomalies in network security, enhancing threat detection and response times. As innovation continues, we can expect more breakthroughs, empowering developers to create smarter, more resilient systems.\n",
       "\n",
       "Furthermore, as AI technologies become increasingly integrated into tech products, we can anticipate a new era of user experience tailored to individual preferences. By leveraging AI to enhance functionality, tech companies can provide solutions that adapt to the ever-changing demands of users.\n",
       "\n",
       "### AI in Education and Learning\n",
       "\n",
       "In the education sector, AI-powered platforms offer personalized learning experiences, adapting content to the student's individual needs. By providing targeted resources and assessments, AI can foster a more engaging and effective learning environment, bridging gaps and enhancing educational outcomes.\n",
       "\n",
       "Looking ahead, AI's role in education could expand further, offering real-time feedback and adaptive learning systems that cater to diverse learning styles. By integrating AI into educational frameworks, we can create more inclusive and accessible learning environments that foster success for all students.\n",
       "\n",
       "## VI. Final Considerations: The Future of AI\n",
       "\n",
       "### Speculation on Upcoming Trends\n",
       "\n",
       "As we look to the future, several trends are anticipated to shape the AI landscape further. Innovations in explainable AI—transparency in decision-making processes—and continued advancements in NLP will foster more sophisticated interactions between humans and machines. Moreover, regulatory frameworks are likely to emerge to balance innovation and accountability, ultimately guiding responsible AI development.\n",
       "\n",
       "The collaboration between AI researchers and policymakers will be crucial in shaping future guidelines. By fostering an open dialogue, we can create a collaborative environment that promotes ethical AI development while harnessing its potential.\n",
       "\n",
       "### Call for Responsible AI Development\n",
       "\n",
       "The potential of AI should not overshadow the necessity for responsible development practices. As technology continues to evolve, stakeholders must stay informed, emphasizing ethical considerations that would allow AI to be a force for good in society. A collaborative effort between researchers, developers, policymakers, and the public is vital to ensure that AI serves humanity's best interests.\n",
       "\n",
       "This commitment to responsibility will not only help to avoid detrimental consequences but also foster an environment in which innovation can flourish sustainably. By prioritizing ethical development, stakeholders can ensure that the advancement of AI enhances human experiences.\n",
       "\n",
       "## VII. Call to Action\n",
       "\n",
       "As we continue to navigate this rapidly evolving field, I encourage readers to stay informed about the latest developments and trends in Artificial Intelligence. Engage in conversations, share your experiences, and contribute to dialogues surrounding AI's implications on society. By participating in this discourse, we can collectively shape a future where AI enhances our lives while addressing its ethical challenges.\n",
       "\n",
       "In conclusion, AI is not just a technological trend; it's a pivotal force that necessitates our attention and understanding. As we continue to explore and advance these technologies, let’s do so with a purposeful focus on impact and ethics. By understanding the influences, implications, and applications of AI, we can better position ourselves to face the future with optimism and responsibility."
      ],
      "text/plain": [
       "<IPython.core.display.Markdown object>"
      ]
     },
     "execution_count": 30,
     "metadata": {},
     "output_type": "execute_result"
    }
   ],
   "source": [
    "from IPython.display import Markdown\n",
    "Markdown(result.raw)"
   ]
  },
  {
   "cell_type": "markdown",
   "metadata": {},
   "source": [
    "## Try it Yourself\n",
    "\n",
    "- Pass in a topic of your choice and see what the agents come up with!"
   ]
  },
  {
   "cell_type": "code",
   "execution_count": null,
   "metadata": {
    "height": 47
   },
   "outputs": [],
   "source": [
    "topic = \"YOUR TOPIC HERE\"\n",
    "result = crew.kickoff(inputs={\"topic\": topic})"
   ]
  },
  {
   "cell_type": "code",
   "execution_count": null,
   "metadata": {
    "height": 30
   },
   "outputs": [],
   "source": [
    "Markdown(result)"
   ]
  },
  {
   "cell_type": "markdown",
   "metadata": {},
   "source": [
    "<a name='1'></a>\n",
    " ## Other Popular Models as LLM for your Agents"
   ]
  },
  {
   "cell_type": "markdown",
   "metadata": {},
   "source": [
    "#### Hugging Face (HuggingFaceHub endpoint)\n",
    "\n",
    "```Python\n",
    "from langchain_community.llms import HuggingFaceHub\n",
    "\n",
    "llm = HuggingFaceHub(\n",
    "    repo_id=\"HuggingFaceH4/zephyr-7b-beta\",\n",
    "    huggingfacehub_api_token=\"<HF_TOKEN_HERE>\",\n",
    "    task=\"text-generation\",\n",
    ")\n",
    "\n",
    "### you will pass \"llm\" to your agent function\n",
    "```"
   ]
  },
  {
   "cell_type": "markdown",
   "metadata": {},
   "source": [
    "#### Mistral API\n",
    "\n",
    "```Python\n",
    "OPENAI_API_KEY=your-mistral-api-key\n",
    "OPENAI_API_BASE=https://api.mistral.ai/v1\n",
    "OPENAI_MODEL_NAME=\"mistral-small\"\n",
    "```"
   ]
  },
  {
   "cell_type": "markdown",
   "metadata": {},
   "source": [
    "#### Cohere\n",
    "\n",
    "```Python\n",
    "from langchain_community.chat_models import ChatCohere\n",
    "# Initialize language model\n",
    "os.environ[\"COHERE_API_KEY\"] = \"your-cohere-api-key\"\n",
    "llm = ChatCohere()\n",
    "\n",
    "### you will pass \"llm\" to your agent function\n",
    "```"
   ]
  },
  {
   "cell_type": "markdown",
   "metadata": {},
   "source": [
    "### For using Llama locally with Ollama and more, checkout the crewAI documentation on [Connecting to any LLM](https://docs.crewai.com/how-to/LLM-Connections/)."
   ]
  },
  {
   "cell_type": "code",
   "execution_count": null,
   "metadata": {
    "height": 30
   },
   "outputs": [],
   "source": []
  },
  {
   "cell_type": "code",
   "execution_count": null,
   "metadata": {
    "height": 30
   },
   "outputs": [],
   "source": []
  },
  {
   "cell_type": "code",
   "execution_count": null,
   "metadata": {
    "height": 30
   },
   "outputs": [],
   "source": []
  }
 ],
 "metadata": {
  "colab": {
   "gpuType": "T4",
   "provenance": []
  },
  "kernelspec": {
   "display_name": "venv",
   "language": "python",
   "name": "python3"
  },
  "language_info": {
   "codemirror_mode": {
    "name": "ipython",
    "version": 3
   },
   "file_extension": ".py",
   "mimetype": "text/x-python",
   "name": "python",
   "nbconvert_exporter": "python",
   "pygments_lexer": "ipython3",
   "version": "3.11.0"
  }
 },
 "nbformat": 4,
 "nbformat_minor": 4
}
