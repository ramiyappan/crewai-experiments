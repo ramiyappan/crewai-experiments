{
 "cells": [
  {
   "cell_type": "markdown",
   "metadata": {},
   "source": [
    "# Create your First Agent Crew in CrewAI"
   ]
  },
  {
   "cell_type": "markdown",
   "metadata": {},
   "source": [
    "Make sure to install all necessary packages in `requirements.txt` "
   ]
  },
  {
   "cell_type": "code",
   "execution_count": null,
   "metadata": {},
   "outputs": [],
   "source": [
    "%pip install -r ../requirements.txt --quiet"
   ]
  },
  {
   "cell_type": "markdown",
   "metadata": {},
   "source": [
    "Let's ignore all warnings for now and import the crewAI library."
   ]
  },
  {
   "cell_type": "code",
   "execution_count": 4,
   "metadata": {},
   "outputs": [],
   "source": [
    "# Warning control\n",
    "import warnings\n",
    "warnings.filterwarnings('ignore')\n",
    "\n",
    "# Imports\n",
    "from crewai import Agent, Task, Crew"
   ]
  },
  {
   "cell_type": "markdown",
   "metadata": {},
   "source": [
    "Create a `.env` file and add your OPENAI_API_KEY like this:\n",
    "\n",
    "```\n",
    "OPENAI_API_KEY = \"your_api_key\"\n",
    "```"
   ]
  },
  {
   "cell_type": "markdown",
   "metadata": {},
   "source": [
    "For demonstrating purposes, we will use `gpt-4o-mini` as our LLM since its cost-effective."
   ]
  },
  {
   "cell_type": "code",
   "execution_count": 5,
   "metadata": {},
   "outputs": [],
   "source": [
    "import os\n",
    "from dotenv import load_dotenv\n",
    "load_dotenv()\n",
    "\n",
    "os.environ[\"OPENAI_MODEL_NAME\"] = 'gpt-4o-mini'"
   ]
  },
  {
   "cell_type": "markdown",
   "metadata": {},
   "source": [
    "## Creating Agents\n",
    "\n",
    "- Define your Agents, and provide them a `role`, `goal` and `backstory`.\n",
    "- It has been seen that LLMs perform better when they are role playing."
   ]
  },
  {
   "cell_type": "markdown",
   "metadata": {},
   "source": [
    "### Agent: Assistant"
   ]
  },
  {
   "cell_type": "code",
   "execution_count": 6,
   "metadata": {},
   "outputs": [],
   "source": [
    "assistant = Agent(\n",
    "    role=\"Helpful Assistant\",\n",
    "    goal=\"Assist the user on specific tasks and answer queries\",\n",
    "    backstory=\"You're currently helping the user \"\n",
    "              \"by answering questions \"\n",
    "              \"and assisting them in performing \"\n",
    "              \"specific tasks. \"\n",
    "              \"Do not assume any info. \"\n",
    "              \"Make sure to answer briefly and\"\n",
    "              \"in a friendly tone.\",\n",
    "    allow_delegation=False,\n",
    "\tverbose=True\n",
    ")"
   ]
  },
  {
   "cell_type": "markdown",
   "metadata": {},
   "source": [
    "`allow_delegation` is used to delegate tasks to other agent nodes. Right now we don't need it, so we will keep it as False."
   ]
  },
  {
   "cell_type": "markdown",
   "metadata": {},
   "source": [
    "## Creating Tasks\n",
    "\n",
    "- Define your Tasks, and provide them a `description`, `expected_output` and `agent`."
   ]
  },
  {
   "cell_type": "code",
   "execution_count": 7,
   "metadata": {},
   "outputs": [],
   "source": [
    "create_blog = Task(\n",
    "    description=(\n",
    "        \"1. Create a compelling blog post on {topic}.\"\n",
    "        \"2. Prioritize the latest trends, key players, \"\n",
    "            \"and noteworthy news on {topic}.\\n\"\n",
    "        \"3. Sections/Subtitles are properly named \"\n",
    "            \"in an engaging manner.\\n\"\n",
    "        \"4. Identify the target audience, considering \"\n",
    "            \"their interests and pain points.\\n\"\n",
    "        \"5. Ensure the post is structured with an \"\n",
    "            \"engaging introduction, insightful body, \"\n",
    "            \"and a summarizing conclusion.\\n\"\n",
    "        \"6. Include SEO keywords and relevant data or sources.\"\n",
    "    ),\n",
    "    expected_output=\"A well-written blog post in markdown format, \"\n",
    "                    \"ready for publication, \"\n",
    "                    \"each section should have 2 or 3 paragraphs.\",\n",
    "    agent=assistant,\n",
    ")"
   ]
  },
  {
   "cell_type": "markdown",
   "metadata": {},
   "source": [
    "## Creating the Crew\n",
    "\n",
    "- Create your crew of Agents\n",
    "- Pass the tasks to be performed by those agents.\n",
    "    - **Note**: *For this simple example*, the tasks will be performed sequentially (i.e they are dependent on each other), so the _order_ of the task in the list _matters_.\n",
    "- Use `verbose=2` to see all the logs of the execution. "
   ]
  },
  {
   "cell_type": "code",
   "execution_count": 8,
   "metadata": {},
   "outputs": [],
   "source": [
    "crew = Crew(\n",
    "    agents=[assistant],\n",
    "    tasks=[create_blog]\n",
    ")"
   ]
  },
  {
   "cell_type": "markdown",
   "metadata": {},
   "source": [
    "## Running the Crew"
   ]
  },
  {
   "cell_type": "code",
   "execution_count": 9,
   "metadata": {},
   "outputs": [
    {
     "name": "stdout",
     "output_type": "stream",
     "text": [
      "\u001b[1m\u001b[95m# Agent:\u001b[00m \u001b[1m\u001b[92mHelpful Assistant\u001b[00m\n",
      "\u001b[95m## Task:\u001b[00m \u001b[92m1. Create a compelling blog post on Agentic AI.2. Prioritize the latest trends, key players, and noteworthy news on Agentic AI.\n",
      "3. Sections/Subtitles are properly named in an engaging manner.\n",
      "4. Identify the target audience, considering their interests and pain points.\n",
      "5. Ensure the post is structured with an engaging introduction, insightful body, and a summarizing conclusion.\n",
      "6. Include SEO keywords and relevant data or sources.\u001b[00m\n",
      "\n",
      "\n",
      "\u001b[1m\u001b[95m# Agent:\u001b[00m \u001b[1m\u001b[92mHelpful Assistant\u001b[00m\n",
      "\u001b[95m## Final Answer:\u001b[00m \u001b[92m\n",
      "```markdown\n",
      "# The Rise of Agentic AI: Transforming Tomorrow's Technology\n",
      "\n",
      "## Introduction: Understanding Agentic AI\n",
      "\n",
      "In a world where technology is advancing at an unprecedented pace, Agentic AI stands out as a revolutionary force. But what does it mean? Simply put, Agentic AI refers to artificial intelligence systems that possess autonomy and can act independently in complex environments. With the growing capabilities of machine learning and data analysis, these intelligent agents are reshaping industries and consumer experiences alike.\n",
      "\n",
      "As we delve into the latest trends, key players, and noteworthy news surrounding Agentic AI, it's essential to recognize the target audience for this post. Business leaders, technologists, and AI enthusiasts will find relatable insights as they navigate the evolving landscape of AI, seeking both innovative solutions and awareness of challenges.\n",
      "\n",
      "## Key Trends in Agentic AI: Where Innovation Meets Efficiency\n",
      "\n",
      "The landscape of Agentic AI is rapidly changing, led by trends focusing on collaboration, ethical use, and integration across sectors. The convergence of AI with IoT (Internet of Things) devices creates a seamless user experience. For example, smart homes utilize Agentic AI to learn homeowner preferences, streamlining automation in real time.\n",
      "\n",
      "Moreover, Agentic AI is increasingly being integrated into customer service platforms, where chatbots and virtual assistants handle inquiries autonomously. This trend allows businesses to enhance customer satisfaction while reducing operational costs. Companies like Google and Amazon are leading this charge, setting new benchmarks for efficiency and user engagement in AI applications.\n",
      "\n",
      "## Key Players in the Agentic AI Space\n",
      "\n",
      "The Agentic AI landscape is diverse, featuring an array of innovative companies and platforms driving growth. Industry giants such as OpenAI, known for GPT-4, are pioneering advancements that focus on making AI systems more interactive and capable of independent decision-making. Startups like Cognitivescale are also making strides, offering platforms that allow businesses to develop customizable AI agents for specific operational needs.\n",
      "\n",
      "Additionally, tech conglomerates like Microsoft and IBM are investing heavily in Agentic AI development, with initiatives focused on ethical AI and transparent practices. Their commitment to responsible AI usage aligns with the growing public demand for sustainable and ethical technology solutions, further highlighting the importance of transparency in this segment.\n",
      "\n",
      "## Noteworthy Developments: Keeping Pace with Progress\n",
      "\n",
      "Recent news highlights exciting developments within Agentic AI. Following a series of successful pilot programs, organizations are increasingly adopting Agentic AI tools for supply chain management, drastically improving logistics through predictive analyses and autonomous decision-making for stock management.\n",
      "\n",
      "Furthermore, the academic field is contributing significantly to Agentic AI innovations. Research institutions are exploring novel approaches in autonomous learning and reinforcement learning, aiming to create AI systems that could adapt and optimize their performance without human intervention. Such breakthroughs promise not only to enhance efficiency but also to challenge existing paradigms of machine learning.\n",
      "\n",
      "## The Impact of Agentic AI on Various Industries\n",
      "\n",
      "The influence of Agentic AI resonates across multiple sectors, from healthcare to finance. In the medical field, AI agents analyze vast amounts of patient data to recommend individualized treatment plans, streamlining the decision-making process for clinicians. Likewise, in finance, AI systems review market trends and provide insights for trading, giving hedge funds a competitive edge while minimizing risk.\n",
      "\n",
      "As more industries integrate Agentic AI, the conversation around its impact on jobs has intensified. While some fear that automation may lead to job losses, experts argue that these systems will augment human capabilities rather than replace them, fostering a collaborative human-AI environment.\n",
      "\n",
      "## Conclusion: Embracing the Future of Agentic AI\n",
      "\n",
      "In conclusion, Agentic AI is set to redefine our approach to technology and the world around us. As we continue to see its implementation across diverse sectors, the potential for transformative outcomes becomes evident. For businesses and individuals alike, embracing this innovative force presents both opportunities and responsibilities.\n",
      "\n",
      "Ultimately, staying informed on the latest trends and advancements in Agentic AI will be crucial for maximizing its benefits. As we face the challenges and ethical considerations of this technology, fostering a collaborative future with Agentic AI will pave the way for unprecedented advancements.\n",
      "\n",
      "### SEO Keywords: \n",
      "Agentic AI, AI trends, AI in business, autonomous AI systems, ethical AI, machine learning, AI applications in industry.\n",
      "```\n",
      "\n",
      "This blog post format is ready for publication and designed to engage the target audience while optimizing for search engines.\u001b[00m\n",
      "\n",
      "\n"
     ]
    }
   ],
   "source": [
    "result = crew.kickoff(inputs={\"topic\": \"Agentic AI\"})"
   ]
  },
  {
   "cell_type": "markdown",
   "metadata": {},
   "source": [
    "- Display the results of your execution as markdown in the notebook."
   ]
  },
  {
   "cell_type": "code",
   "execution_count": 10,
   "metadata": {},
   "outputs": [
    {
     "data": {
      "text/plain": [
       "\"```markdown\\n# The Rise of Agentic AI: Transforming Tomorrow's Technology\\n\\n## Introduction: Understanding Agentic AI\\n\\nIn a world where technology is advancing at an unprecedented pace, Agentic AI stands out as a revolutionary force. But what does it mean? Simply put, Agentic AI refers to artificial intelligence systems that possess autonomy and can act independently in complex environments. With the growing capabilities of machine learning and data analysis, these intelligent agents are reshaping industries and consumer experiences alike.\\n\\nAs we delve into the latest trends, key players, and noteworthy news surrounding Agentic AI, it's essential to recognize the target audience for this post. Business leaders, technologists, and AI enthusiasts will find relatable insights as they navigate the evolving landscape of AI, seeking both innovative solutions and awareness of challenges.\\n\\n## Key Trends in Agentic AI: Where Innovation Meets Efficiency\\n\\nThe landscape of Agentic AI is rapidly changing, led by trends focusing on collaboration, ethical use, and integration across sectors. The convergence of AI with IoT (Internet of Things) devices creates a seamless user experience. For example, smart homes utilize Agentic AI to learn homeowner preferences, streamlining automation in real time.\\n\\nMoreover, Agentic AI is increasingly being integrated into customer service platforms, where chatbots and virtual assistants handle inquiries autonomously. This trend allows businesses to enhance customer satisfaction while reducing operational costs. Companies like Google and Amazon are leading this charge, setting new benchmarks for efficiency and user engagement in AI applications.\\n\\n## Key Players in the Agentic AI Space\\n\\nThe Agentic AI landscape is diverse, featuring an array of innovative companies and platforms driving growth. Industry giants such as OpenAI, known for GPT-4, are pioneering advancements that focus on making AI systems more interactive and capable of independent decision-making. Startups like Cognitivescale are also making strides, offering platforms that allow businesses to develop customizable AI agents for specific operational needs.\\n\\nAdditionally, tech conglomerates like Microsoft and IBM are investing heavily in Agentic AI development, with initiatives focused on ethical AI and transparent practices. Their commitment to responsible AI usage aligns with the growing public demand for sustainable and ethical technology solutions, further highlighting the importance of transparency in this segment.\\n\\n## Noteworthy Developments: Keeping Pace with Progress\\n\\nRecent news highlights exciting developments within Agentic AI. Following a series of successful pilot programs, organizations are increasingly adopting Agentic AI tools for supply chain management, drastically improving logistics through predictive analyses and autonomous decision-making for stock management.\\n\\nFurthermore, the academic field is contributing significantly to Agentic AI innovations. Research institutions are exploring novel approaches in autonomous learning and reinforcement learning, aiming to create AI systems that could adapt and optimize their performance without human intervention. Such breakthroughs promise not only to enhance efficiency but also to challenge existing paradigms of machine learning.\\n\\n## The Impact of Agentic AI on Various Industries\\n\\nThe influence of Agentic AI resonates across multiple sectors, from healthcare to finance. In the medical field, AI agents analyze vast amounts of patient data to recommend individualized treatment plans, streamlining the decision-making process for clinicians. Likewise, in finance, AI systems review market trends and provide insights for trading, giving hedge funds a competitive edge while minimizing risk.\\n\\nAs more industries integrate Agentic AI, the conversation around its impact on jobs has intensified. While some fear that automation may lead to job losses, experts argue that these systems will augment human capabilities rather than replace them, fostering a collaborative human-AI environment.\\n\\n## Conclusion: Embracing the Future of Agentic AI\\n\\nIn conclusion, Agentic AI is set to redefine our approach to technology and the world around us. As we continue to see its implementation across diverse sectors, the potential for transformative outcomes becomes evident. For businesses and individuals alike, embracing this innovative force presents both opportunities and responsibilities.\\n\\nUltimately, staying informed on the latest trends and advancements in Agentic AI will be crucial for maximizing its benefits. As we face the challenges and ethical considerations of this technology, fostering a collaborative future with Agentic AI will pave the way for unprecedented advancements.\\n\\n### SEO Keywords: \\nAgentic AI, AI trends, AI in business, autonomous AI systems, ethical AI, machine learning, AI applications in industry.\\n```\\n\\nThis blog post format is ready for publication and designed to engage the target audience while optimizing for search engines.\""
      ]
     },
     "execution_count": 10,
     "metadata": {},
     "output_type": "execute_result"
    }
   ],
   "source": [
    "result.raw"
   ]
  },
  {
   "cell_type": "code",
   "execution_count": 11,
   "metadata": {},
   "outputs": [
    {
     "data": {
      "text/markdown": [
       "\n",
       "# The Rise of Agentic AI: Transforming Tomorrow's Technology\n",
       "\n",
       "## Introduction: Understanding Agentic AI\n",
       "\n",
       "In a world where technology is advancing at an unprecedented pace, Agentic AI stands out as a revolutionary force. But what does it mean? Simply put, Agentic AI refers to artificial intelligence systems that possess autonomy and can act independently in complex environments. With the growing capabilities of machine learning and data analysis, these intelligent agents are reshaping industries and consumer experiences alike.\n",
       "\n",
       "As we delve into the latest trends, key players, and noteworthy news surrounding Agentic AI, it's essential to recognize the target audience for this post. Business leaders, technologists, and AI enthusiasts will find relatable insights as they navigate the evolving landscape of AI, seeking both innovative solutions and awareness of challenges.\n",
       "\n",
       "## Key Trends in Agentic AI: Where Innovation Meets Efficiency\n",
       "\n",
       "The landscape of Agentic AI is rapidly changing, led by trends focusing on collaboration, ethical use, and integration across sectors. The convergence of AI with IoT (Internet of Things) devices creates a seamless user experience. For example, smart homes utilize Agentic AI to learn homeowner preferences, streamlining automation in real time.\n",
       "\n",
       "Moreover, Agentic AI is increasingly being integrated into customer service platforms, where chatbots and virtual assistants handle inquiries autonomously. This trend allows businesses to enhance customer satisfaction while reducing operational costs. Companies like Google and Amazon are leading this charge, setting new benchmarks for efficiency and user engagement in AI applications.\n",
       "\n",
       "## Key Players in the Agentic AI Space\n",
       "\n",
       "The Agentic AI landscape is diverse, featuring an array of innovative companies and platforms driving growth. Industry giants such as OpenAI, known for GPT-4, are pioneering advancements that focus on making AI systems more interactive and capable of independent decision-making. Startups like Cognitivescale are also making strides, offering platforms that allow businesses to develop customizable AI agents for specific operational needs.\n",
       "\n",
       "Additionally, tech conglomerates like Microsoft and IBM are investing heavily in Agentic AI development, with initiatives focused on ethical AI and transparent practices. Their commitment to responsible AI usage aligns with the growing public demand for sustainable and ethical technology solutions, further highlighting the importance of transparency in this segment.\n",
       "\n",
       "## Noteworthy Developments: Keeping Pace with Progress\n",
       "\n",
       "Recent news highlights exciting developments within Agentic AI. Following a series of successful pilot programs, organizations are increasingly adopting Agentic AI tools for supply chain management, drastically improving logistics through predictive analyses and autonomous decision-making for stock management.\n",
       "\n",
       "Furthermore, the academic field is contributing significantly to Agentic AI innovations. Research institutions are exploring novel approaches in autonomous learning and reinforcement learning, aiming to create AI systems that could adapt and optimize their performance without human intervention. Such breakthroughs promise not only to enhance efficiency but also to challenge existing paradigms of machine learning.\n",
       "\n",
       "## The Impact of Agentic AI on Various Industries\n",
       "\n",
       "The influence of Agentic AI resonates across multiple sectors, from healthcare to finance. In the medical field, AI agents analyze vast amounts of patient data to recommend individualized treatment plans, streamlining the decision-making process for clinicians. Likewise, in finance, AI systems review market trends and provide insights for trading, giving hedge funds a competitive edge while minimizing risk.\n",
       "\n",
       "As more industries integrate Agentic AI, the conversation around its impact on jobs has intensified. While some fear that automation may lead to job losses, experts argue that these systems will augment human capabilities rather than replace them, fostering a collaborative human-AI environment.\n",
       "\n",
       "## Conclusion: Embracing the Future of Agentic AI\n",
       "\n",
       "In conclusion, Agentic AI is set to redefine our approach to technology and the world around us. As we continue to see its implementation across diverse sectors, the potential for transformative outcomes becomes evident. For businesses and individuals alike, embracing this innovative force presents both opportunities and responsibilities.\n",
       "\n",
       "Ultimately, staying informed on the latest trends and advancements in Agentic AI will be crucial for maximizing its benefits. As we face the challenges and ethical considerations of this technology, fostering a collaborative future with Agentic AI will pave the way for unprecedented advancements.\n",
       "\n",
       "### SEO Keywords: \n",
       "Agentic AI, AI trends, AI in business, autonomous AI systems, ethical AI, machine learning, AI applications in industry.\n",
       "```\n",
       "\n",
       "This blog post format is ready for publication and designed to engage the target audience while optimizing for search engines."
      ],
      "text/plain": [
       "<IPython.core.display.Markdown object>"
      ]
     },
     "execution_count": 11,
     "metadata": {},
     "output_type": "execute_result"
    }
   ],
   "source": [
    "from IPython.display import Markdown\n",
    "Markdown(result.raw[11:])"
   ]
  }
 ],
 "metadata": {
  "kernelspec": {
   "display_name": "venv",
   "language": "python",
   "name": "python3"
  },
  "language_info": {
   "codemirror_mode": {
    "name": "ipython",
    "version": 3
   },
   "file_extension": ".py",
   "mimetype": "text/x-python",
   "name": "python",
   "nbconvert_exporter": "python",
   "pygments_lexer": "ipython3",
   "version": "3.11.0"
  }
 },
 "nbformat": 4,
 "nbformat_minor": 2
}
